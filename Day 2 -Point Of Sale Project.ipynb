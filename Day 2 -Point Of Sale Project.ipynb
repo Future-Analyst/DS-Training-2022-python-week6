{
 "cells": [
  {
   "cell_type": "code",
   "execution_count": null,
   "metadata": {},
   "outputs": [],
   "source": [
    "from tkinter import *\n",
    "master = Tk()\n",
    "master.attributes('-fullscreen', True)\n",
    "\n",
    "master.mainloop()"
   ]
  },
  {
   "cell_type": "code",
   "execution_count": 18,
   "metadata": {},
   "outputs": [],
   "source": [
    "from tkinter import *\n",
    "from tkinter import ttk\n",
    "master = Tk()\n",
    "screen_width = master.winfo_screenwidth()\n",
    "screen_height = master.winfo_screenheight()\n",
    "master.geometry(f\"{screen_width}x{screen_height}\")\n",
    "Label(master,text=\"Point Of Sale\",\n",
    "      font=\"courier 30 bold\",\n",
    "      bd=7,relief=\"raised\").pack(ipady=6,ipadx=6)\n",
    "\n",
    "lb=LabelFrame(master,text=\"Login\")\n",
    "lb.pack()\n",
    "\n",
    "Label(lb,text=\"Username\").grid(row=1,column=1)\n",
    "Entry(lb).grid(row=1,column=2)\n",
    "\n",
    "Label(lb,text=\"Password\").grid(row=2,column=1)\n",
    "Entry(lb).grid(row=2,column=2)\n",
    "\n",
    "ttk.Button(lb,text=\"Login\").grid(row=3,column=1,columnspan=2)\n",
    "\n",
    "\n",
    "\n",
    "\n",
    "master.mainloop()\n"
   ]
  },
  {
   "cell_type": "code",
   "execution_count": 27,
   "metadata": {},
   "outputs": [],
   "source": [
    "from tkinter import *\n",
    "from tkinter import ttk\n",
    "master = Tk()\n",
    "screen_width = master.winfo_screenwidth()\n",
    "screen_height = master.winfo_screenheight()\n",
    "master.geometry(f\"{screen_width}x{screen_height}\")\n",
    "Label(master,text=\"Point Of Sale\",\n",
    "      font=\"courier 30 bold\",\n",
    "      bd=7,relief=\"raised\").pack(ipady=6,ipadx=6)\n",
    "\n",
    "lb=LabelFrame(master,text=\"Login\",bd=12,relief=\"ridge\")\n",
    "lb.pack()\n",
    "\n",
    "Label(lb,text=\"Username\").grid(row=1,column=1)\n",
    "Entry(lb).grid(row=1,column=2)\n",
    "\n",
    "Label(lb,text=\"Password\").grid(row=2,column=1)\n",
    "Entry(lb).grid(row=2,column=2)\n",
    "\n",
    "ttk.Button(lb,text=\"Login\").grid(row=3,column=1,columnspan=2)\n",
    "\n",
    "\n",
    "ttk.Button(lb,text=\"Forgot Password\").grid(row=4,column=1,columnspan=2)\n",
    "\n",
    "\n",
    "Label(lb,text=\"Don't have an account?\").grid(row=5,column=1)\n",
    "ttk.Button(lb,text=\"Create Account\").grid(row=5,column=2)\n",
    "\n",
    "\n",
    "\n",
    "\n",
    "master.mainloop()\n"
   ]
  },
  {
   "cell_type": "code",
   "execution_count": 31,
   "metadata": {},
   "outputs": [],
   "source": [
    "from tkinter import *\n",
    "from tkinter import ttk\n",
    "\n",
    "def createAccount():\n",
    "    new_window1=Toplevel()\n",
    "    new_window1.geometry(f\"{screen_width}x{screen_height}\")\n",
    "    lb1=LabelFrame(new_window1,text=\"Create Account\",bd=12,relief=\"ridge\")\n",
    "    lb1.pack()\n",
    "\n",
    "    Label(lb1,text=\"Username\").grid(row=1,column=1)\n",
    "    Entry(lb1).grid(row=1,column=2)\n",
    "\n",
    "    Label(lb1,text=\"Password\").grid(row=2,column=1)\n",
    "    Entry(lb1).grid(row=2,column=2)\n",
    "    \n",
    "    Label(lb1,text=\"Confirm Password\").grid(row=3,column=1)\n",
    "    Entry(lb1).grid(row=3,column=2)\n",
    "    \n",
    "    Label(lb1,text=\"Phone\").grid(row=4,column=1)\n",
    "    Entry(lb1).grid(row=4,column=2)\n",
    "\n",
    "    ttk.Button(lb1,text=\"Create Account\").grid(row=5,column=1,columnspan=2)\n",
    "\n",
    "    Label(lb1,text=\"Have an account?\").grid(row=6,column=1)\n",
    "    ttk.Button(lb1,text=\"Login\",\n",
    "               command=createAccount\n",
    "              ).grid(row=6,column=2)\n",
    "\n",
    "    \n",
    "    \n",
    "master = Tk()\n",
    "screen_width = master.winfo_screenwidth()\n",
    "screen_height = master.winfo_screenheight()\n",
    "master.geometry(f\"{screen_width}x{screen_height}\")\n",
    "Label(master,text=\"Point Of Sale\",\n",
    "      font=\"courier 30 bold\",\n",
    "      bd=7,relief=\"raised\").pack(ipady=6,ipadx=6)\n",
    "\n",
    "lb=LabelFrame(master,text=\"Login\",bd=12,relief=\"ridge\")\n",
    "lb.pack()\n",
    "\n",
    "Label(lb,text=\"Username\").grid(row=1,column=1)\n",
    "Entry(lb).grid(row=1,column=2)\n",
    "\n",
    "Label(lb,text=\"Password\").grid(row=2,column=1)\n",
    "Entry(lb).grid(row=2,column=2)\n",
    "\n",
    "ttk.Button(lb,text=\"Login\").grid(row=3,column=1,columnspan=2)\n",
    "\n",
    "\n",
    "ttk.Button(lb,text=\"Forgot Password\").grid(row=4,column=1,columnspan=2)\n",
    "\n",
    "\n",
    "Label(lb,text=\"Don't have an account?\").grid(row=5,column=1)\n",
    "ttk.Button(lb,text=\"Create Account\",\n",
    "           command=createAccount\n",
    "          ).grid(row=5,column=2)\n",
    "\n",
    "\n",
    "\n",
    "\n",
    "master.mainloop()\n"
   ]
  },
  {
   "cell_type": "code",
   "execution_count": 36,
   "metadata": {},
   "outputs": [
    {
     "name": "stderr",
     "output_type": "stream",
     "text": [
      "Exception in Tkinter callback\n",
      "Traceback (most recent call last):\n",
      "  File \"C:\\Users\\USER\\Anaconda3\\lib\\tkinter\\__init__.py\", line 1705, in __call__\n",
      "    return self.func(*args)\n",
      "  File \"<ipython-input-36-a0cf53b70b13>\", line 5, in registerUser\n",
      "    print(passwordVar.get())\n",
      "NameError: name 'passwordVar' is not defined\n"
     ]
    }
   ],
   "source": [
    "from tkinter import *\n",
    "from tkinter import ttk\n",
    "\n",
    "def registerUser():\n",
    "    print(passwordVar.get())\n",
    "    print(conPasswordVar.get())\n",
    "\n",
    "\n",
    "def createAccount():\n",
    "    new_window1=Toplevel()\n",
    "    new_window1.geometry(f\"{screen_width}x{screen_height}\")\n",
    "    lb1=LabelFrame(new_window1,text=\"Create Account\",bd=12,relief=\"ridge\")\n",
    "    lb1.pack()\n",
    "\n",
    "    Label(lb1,text=\"Username\").grid(row=1,column=1)\n",
    "    usernameVar=StringVar()\n",
    "    Entry(lb1,textvariable=usernameVar).grid(row=1,column=2)\n",
    "\n",
    "    Label(lb1,text=\"Password\").grid(row=2,column=1)\n",
    "    passwordVar=StringVar()\n",
    "    Entry(lb1,textvariable=passwordVar).grid(row=2,column=2)\n",
    "    \n",
    "    Label(lb1,text=\"Confirm Password\").grid(row=3,column=1)\n",
    "    conPasswordVar=StringVar()\n",
    "    Entry(lb1,textvariable=conPasswordVar).grid(row=3,column=2)\n",
    "    \n",
    "    Label(lb1,text=\"Phone\").grid(row=4,column=1)\n",
    "    phoneVar=StringVar()\n",
    "    Entry(lb1,textvariable=phoneVar).grid(row=4,column=2)\n",
    "\n",
    "    ttk.Button(lb1,\n",
    "               text=\"Create Account\",\n",
    "               command=registerUser).grid(row=5,column=1,columnspan=2)\n",
    "\n",
    "    Label(lb1,text=\"Have an account?\").grid(row=6,column=1)\n",
    "    ttk.Button(lb1,text=\"Login\",\n",
    "               command=createAccount\n",
    "              ).grid(row=6,column=2)\n",
    "\n",
    "    \n",
    "    \n",
    "master = Tk()\n",
    "screen_width = master.winfo_screenwidth()\n",
    "screen_height = master.winfo_screenheight()\n",
    "master.geometry(f\"{screen_width}x{screen_height}\")\n",
    "Label(master,text=\"Point Of Sale\",\n",
    "      font=\"courier 30 bold\",\n",
    "      bd=7,relief=\"raised\").pack(ipady=6,ipadx=6)\n",
    "\n",
    "lb=LabelFrame(master,text=\"Login\",bd=12,relief=\"ridge\")\n",
    "lb.pack()\n",
    "\n",
    "Label(lb,text=\"Username\").grid(row=1,column=1)\n",
    "Entry(lb).grid(row=1,column=2)\n",
    "\n",
    "Label(lb,text=\"Password\").grid(row=2,column=1)\n",
    "Entry(lb).grid(row=2,column=2)\n",
    "\n",
    "ttk.Button(lb,text=\"Login\").grid(row=3,column=1,columnspan=2)\n",
    "\n",
    "\n",
    "ttk.Button(lb,text=\"Forgot Password\").grid(row=4,column=1,columnspan=2)\n",
    "\n",
    "\n",
    "Label(lb,text=\"Don't have an account?\").grid(row=5,column=1)\n",
    "ttk.Button(lb,text=\"Create Account\",\n",
    "           command=createAccount\n",
    "          ).grid(row=5,column=2)\n",
    "\n",
    "\n",
    "\n",
    "\n",
    "master.mainloop()\n"
   ]
  },
  {
   "cell_type": "code",
   "execution_count": 32,
   "metadata": {},
   "outputs": [
    {
     "ename": "SyntaxError",
     "evalue": "invalid token (<ipython-input-32-0908cbeb2fbd>, line 1)",
     "output_type": "error",
     "traceback": [
      "\u001b[1;36m  File \u001b[1;32m\"<ipython-input-32-0908cbeb2fbd>\"\u001b[1;36m, line \u001b[1;32m1\u001b[0m\n\u001b[1;33m    02\u001b[0m\n\u001b[1;37m     ^\u001b[0m\n\u001b[1;31mSyntaxError\u001b[0m\u001b[1;31m:\u001b[0m invalid token\n"
     ]
    }
   ],
   "source": [
    "02"
   ]
  },
  {
   "cell_type": "code",
   "execution_count": 38,
   "metadata": {},
   "outputs": [
    {
     "name": "stderr",
     "output_type": "stream",
     "text": [
      "Exception in Tkinter callback\n",
      "Traceback (most recent call last):\n",
      "  File \"C:\\Users\\USER\\Anaconda3\\lib\\tkinter\\__init__.py\", line 1705, in __call__\n",
      "    return self.func(*args)\n",
      "  File \"<ipython-input-38-1252c060a11e>\", line 5, in registerUser\n",
      "    print(passwordVar.get())\n",
      "NameError: name 'passwordVar' is not defined\n"
     ]
    }
   ],
   "source": [
    "from tkinter import *\n",
    "from tkinter import ttk\n",
    "\n",
    "def registerUser():\n",
    "    print(passwordVar.get())\n",
    "    print(conPasswordVar.get())\n",
    "\n",
    "\n",
    "def createAccount():\n",
    "    new_window1=Toplevel()\n",
    "    new_window1.geometry(f\"{screen_width}x{screen_height}\")\n",
    "    lb1=LabelFrame(new_window1,text=\"Create Account\",bd=12,relief=\"ridge\")\n",
    "    lb1.pack()\n",
    "\n",
    "    Label(lb1,text=\"Username\").grid(row=1,column=1)\n",
    "    usernameVar=StringVar()\n",
    "    Entry(lb1,textvariable=usernameVar).grid(row=1,column=2)\n",
    "\n",
    "    Label(lb1,text=\"Password\").grid(row=2,column=1)\n",
    "    passwordVar=StringVar()\n",
    "    Entry(lb1,textvariable=passwordVar,show=\"*\").grid(row=2,column=2)\n",
    "    \n",
    "    Label(lb1,text=\"Confirm Password\").grid(row=3,column=1)\n",
    "    conPasswordVar=StringVar()\n",
    "    Entry(lb1,textvariable=conPasswordVar,show=\"*\").grid(row=3,column=2)\n",
    "    \n",
    "    Label(lb1,text=\"Phone\").grid(row=4,column=1)\n",
    "    phoneVar=StringVar()\n",
    "    Entry(lb1,textvariable=phoneVar).grid(row=4,column=2)\n",
    "\n",
    "    ttk.Button(lb1,\n",
    "               text=\"Create Account\",\n",
    "               command=registerUser).grid(row=5,column=1,columnspan=2)\n",
    "\n",
    "    Label(lb1,text=\"Have an account?\").grid(row=6,column=1)\n",
    "    ttk.Button(lb1,text=\"Login\",\n",
    "               command=createAccount\n",
    "              ).grid(row=6,column=2)\n",
    "\n",
    "    \n",
    "    \n",
    "master = Tk()\n",
    "screen_width = master.winfo_screenwidth()\n",
    "screen_height = master.winfo_screenheight()\n",
    "master.geometry(f\"{screen_width}x{screen_height}\")\n",
    "Label(master,text=\"Point Of Sale\",\n",
    "      font=\"courier 30 bold\",\n",
    "      bd=7,relief=\"raised\").pack(ipady=6,ipadx=6)\n",
    "\n",
    "lb=LabelFrame(master,text=\"Login\",bd=12,relief=\"ridge\")\n",
    "lb.pack()\n",
    "\n",
    "Label(lb,text=\"Username\").grid(row=1,column=1)\n",
    "Entry(lb).grid(row=1,column=2)\n",
    "\n",
    "Label(lb,text=\"Password\").grid(row=2,column=1)\n",
    "Entry(lb).grid(row=2,column=2)\n",
    "\n",
    "ttk.Button(lb,text=\"Login\").grid(row=3,column=1,columnspan=2)\n",
    "\n",
    "\n",
    "ttk.Button(lb,text=\"Forgot Password\").grid(row=4,column=1,columnspan=2)\n",
    "\n",
    "\n",
    "Label(lb,text=\"Don't have an account?\").grid(row=5,column=1)\n",
    "ttk.Button(lb,text=\"Create Account\",\n",
    "           command=createAccount\n",
    "          ).grid(row=5,column=2)\n",
    "\n",
    "\n",
    "\n",
    "\n",
    "master.mainloop()\n"
   ]
  },
  {
   "cell_type": "markdown",
   "metadata": {},
   "source": [
    "## Variable Scope"
   ]
  },
  {
   "cell_type": "code",
   "execution_count": 39,
   "metadata": {},
   "outputs": [],
   "source": [
    "f=12 # global varibale\n",
    "def t(u):\n",
    "    print(f+u)"
   ]
  },
  {
   "cell_type": "code",
   "execution_count": 40,
   "metadata": {},
   "outputs": [
    {
     "name": "stdout",
     "output_type": "stream",
     "text": [
      "22\n"
     ]
    }
   ],
   "source": [
    "t(10)"
   ]
  },
  {
   "cell_type": "code",
   "execution_count": 41,
   "metadata": {},
   "outputs": [],
   "source": [
    "f=12 # global varibale\n",
    "def t(u):\n",
    "    f=20 # local variable\n",
    "    print(f+u)"
   ]
  },
  {
   "cell_type": "code",
   "execution_count": 42,
   "metadata": {},
   "outputs": [
    {
     "name": "stdout",
     "output_type": "stream",
     "text": [
      "100\n"
     ]
    }
   ],
   "source": [
    "t(80)"
   ]
  },
  {
   "cell_type": "code",
   "execution_count": 43,
   "metadata": {},
   "outputs": [
    {
     "data": {
      "text/plain": [
       "12"
      ]
     },
     "execution_count": 43,
     "metadata": {},
     "output_type": "execute_result"
    }
   ],
   "source": [
    "f"
   ]
  },
  {
   "cell_type": "code",
   "execution_count": 44,
   "metadata": {},
   "outputs": [],
   "source": [
    "f=12 # global varibale\n",
    "def t(u):\n",
    "    f=20 # local variable\n",
    "    y=10\n",
    "    print(f+u)"
   ]
  },
  {
   "cell_type": "code",
   "execution_count": 45,
   "metadata": {},
   "outputs": [
    {
     "name": "stdout",
     "output_type": "stream",
     "text": [
      "40\n"
     ]
    }
   ],
   "source": [
    "t(20)"
   ]
  },
  {
   "cell_type": "code",
   "execution_count": 46,
   "metadata": {},
   "outputs": [
    {
     "ename": "NameError",
     "evalue": "name 'y' is not defined",
     "output_type": "error",
     "traceback": [
      "\u001b[1;31m---------------------------------------------------------------------------\u001b[0m",
      "\u001b[1;31mNameError\u001b[0m                                 Traceback (most recent call last)",
      "\u001b[1;32m<ipython-input-46-9063a9f0e032>\u001b[0m in \u001b[0;36m<module>\u001b[1;34m\u001b[0m\n\u001b[1;32m----> 1\u001b[1;33m \u001b[0my\u001b[0m\u001b[1;33m\u001b[0m\u001b[1;33m\u001b[0m\u001b[0m\n\u001b[0m",
      "\u001b[1;31mNameError\u001b[0m: name 'y' is not defined"
     ]
    }
   ],
   "source": [
    "y"
   ]
  },
  {
   "cell_type": "code",
   "execution_count": 47,
   "metadata": {},
   "outputs": [],
   "source": [
    "f=12 # global varibale\n",
    "def t(u):\n",
    "    global y\n",
    "    global f\n",
    "    f=20 # local variable\n",
    "    y=10\n",
    "    print(f+u)"
   ]
  },
  {
   "cell_type": "code",
   "execution_count": 48,
   "metadata": {},
   "outputs": [
    {
     "name": "stdout",
     "output_type": "stream",
     "text": [
      "40\n"
     ]
    }
   ],
   "source": [
    "t(20)"
   ]
  },
  {
   "cell_type": "code",
   "execution_count": 49,
   "metadata": {},
   "outputs": [
    {
     "data": {
      "text/plain": [
       "10"
      ]
     },
     "execution_count": 49,
     "metadata": {},
     "output_type": "execute_result"
    }
   ],
   "source": [
    "y"
   ]
  },
  {
   "cell_type": "code",
   "execution_count": 50,
   "metadata": {},
   "outputs": [
    {
     "data": {
      "text/plain": [
       "20"
      ]
     },
     "execution_count": 50,
     "metadata": {},
     "output_type": "execute_result"
    }
   ],
   "source": [
    "f"
   ]
  },
  {
   "cell_type": "code",
   "execution_count": 53,
   "metadata": {},
   "outputs": [
    {
     "name": "stdout",
     "output_type": "stream",
     "text": [
      "Passwrd and confirm Password must match!!\n"
     ]
    }
   ],
   "source": [
    "from tkinter import *\n",
    "from tkinter import ttk\n",
    "\n",
    "def registerUser():\n",
    "    username=usernameVar.get()\n",
    "    password=passwordVar.get()\n",
    "    confirnPass=conPasswordVar.get()\n",
    "    phone=phoneVar.get()\n",
    "    if password!=confirnPass:\n",
    "        print(\"Passwrd and confirm Password must match!!\")\n",
    "\n",
    "\n",
    "def createAccount():\n",
    "    global passwordVar,conPasswordVar,usernameVar,phoneVar\n",
    "    new_window1=Toplevel()\n",
    "    new_window1.geometry(f\"{screen_width}x{screen_height}\")\n",
    "    lb1=LabelFrame(new_window1,text=\"Create Account\",bd=12,relief=\"ridge\")\n",
    "    lb1.pack()\n",
    "\n",
    "    Label(lb1,text=\"Username\").grid(row=1,column=1)\n",
    "    usernameVar=StringVar()\n",
    "    Entry(lb1,textvariable=usernameVar).grid(row=1,column=2)\n",
    "\n",
    "    Label(lb1,text=\"Password\").grid(row=2,column=1)\n",
    "    passwordVar=StringVar()\n",
    "    Entry(lb1,textvariable=passwordVar,show=\"*\").grid(row=2,column=2)\n",
    "    \n",
    "    Label(lb1,text=\"Confirm Password\").grid(row=3,column=1)\n",
    "    conPasswordVar=StringVar()\n",
    "    Entry(lb1,textvariable=conPasswordVar,show=\"*\").grid(row=3,column=2)\n",
    "    \n",
    "    Label(lb1,text=\"Phone\").grid(row=4,column=1)\n",
    "    phoneVar=StringVar()\n",
    "    Entry(lb1,textvariable=phoneVar).grid(row=4,column=2)\n",
    "\n",
    "    ttk.Button(lb1,\n",
    "               text=\"Create Account\",\n",
    "               command=registerUser).grid(row=5,column=1,columnspan=2)\n",
    "\n",
    "    Label(lb1,text=\"Have an account?\").grid(row=6,column=1)\n",
    "    ttk.Button(lb1,text=\"Login\",\n",
    "               command=createAccount\n",
    "              ).grid(row=6,column=2)\n",
    "\n",
    "    \n",
    "    \n",
    "master = Tk()\n",
    "screen_width = master.winfo_screenwidth()\n",
    "screen_height = master.winfo_screenheight()\n",
    "master.geometry(f\"{screen_width}x{screen_height}\")\n",
    "Label(master,text=\"Point Of Sale\",\n",
    "      font=\"courier 30 bold\",\n",
    "      bd=7,relief=\"raised\").pack(ipady=6,ipadx=6)\n",
    "\n",
    "lb=LabelFrame(master,text=\"Login\",bd=12,relief=\"ridge\")\n",
    "lb.pack()\n",
    "\n",
    "Label(lb,text=\"Username\").grid(row=1,column=1)\n",
    "Entry(lb).grid(row=1,column=2)\n",
    "\n",
    "Label(lb,text=\"Password\").grid(row=2,column=1)\n",
    "Entry(lb).grid(row=2,column=2)\n",
    "\n",
    "ttk.Button(lb,text=\"Login\").grid(row=3,column=1,columnspan=2)\n",
    "\n",
    "\n",
    "ttk.Button(lb,text=\"Forgot Password\").grid(row=4,column=1,columnspan=2)\n",
    "\n",
    "\n",
    "Label(lb,text=\"Don't have an account?\").grid(row=5,column=1)\n",
    "ttk.Button(lb,text=\"Create Account\",\n",
    "           command=createAccount\n",
    "          ).grid(row=5,column=2)\n",
    "\n",
    "\n",
    "\n",
    "\n",
    "master.mainloop()\n"
   ]
  },
  {
   "cell_type": "code",
   "execution_count": 57,
   "metadata": {},
   "outputs": [
    {
     "name": "stdout",
     "output_type": "stream",
     "text": [
      "Passwrd and confirm Password must match!!\n"
     ]
    }
   ],
   "source": [
    "from datetime import datetime\n",
    "\n",
    "from tkinter import *\n",
    "from tkinter import ttk\n",
    "from tkinter import messagebox\n",
    "\n",
    "def registerUser():\n",
    "    username=usernameVar.get()\n",
    "    password=passwordVar.get()\n",
    "    confirnPass=conPasswordVar.get()\n",
    "    phone=phoneVar.get()\n",
    "    if password!=confirnPass:\n",
    "        messagebox.showerror(\"Password Error!\",\"Passwrd and confirm Password must match!!\")\n",
    "        print(\"Passwrd and confirm Password must match!!\")\n",
    "    else:\n",
    "        file = open(\"users.txt\",\"a\")\n",
    "        date=datetime.now()\n",
    "        content=f\"{username},{password},{phone},{date}\\n\"\n",
    "        file.write(content)\n",
    "        file.close()\n",
    "        messagebox.showinfo(\"Success\",\"Your account has been created!\")\n",
    "\n",
    "\n",
    "def createAccount():\n",
    "    global passwordVar,conPasswordVar,usernameVar,phoneVar\n",
    "    new_window1=Toplevel()\n",
    "    new_window1.geometry(f\"{screen_width}x{screen_height}\")\n",
    "    lb1=LabelFrame(new_window1,text=\"Create Account\",bd=12,relief=\"ridge\")\n",
    "    lb1.pack()\n",
    "\n",
    "    Label(lb1,text=\"Username\").grid(row=1,column=1)\n",
    "    usernameVar=StringVar()\n",
    "    Entry(lb1,textvariable=usernameVar).grid(row=1,column=2)\n",
    "\n",
    "    Label(lb1,text=\"Password\").grid(row=2,column=1)\n",
    "    passwordVar=StringVar()\n",
    "    Entry(lb1,textvariable=passwordVar,show=\"*\").grid(row=2,column=2)\n",
    "    \n",
    "    Label(lb1,text=\"Confirm Password\").grid(row=3,column=1)\n",
    "    conPasswordVar=StringVar()\n",
    "    Entry(lb1,textvariable=conPasswordVar,show=\"*\").grid(row=3,column=2)\n",
    "    \n",
    "    Label(lb1,text=\"Phone\").grid(row=4,column=1)\n",
    "    phoneVar=StringVar()\n",
    "    Entry(lb1,textvariable=phoneVar).grid(row=4,column=2)\n",
    "\n",
    "    ttk.Button(lb1,\n",
    "               text=\"Create Account\",\n",
    "               command=registerUser).grid(row=5,column=1,columnspan=2)\n",
    "\n",
    "    Label(lb1,text=\"Have an account?\").grid(row=6,column=1)\n",
    "    ttk.Button(lb1,text=\"Login\",\n",
    "               command=createAccount\n",
    "              ).grid(row=6,column=2)\n",
    "\n",
    "    \n",
    "    \n",
    "master = Tk()\n",
    "screen_width = master.winfo_screenwidth()\n",
    "screen_height = master.winfo_screenheight()\n",
    "master.geometry(f\"{screen_width}x{screen_height}\")\n",
    "Label(master,text=\"Point Of Sale\",\n",
    "      font=\"courier 30 bold\",\n",
    "      bd=7,relief=\"raised\").pack(ipady=6,ipadx=6)\n",
    "\n",
    "lb=LabelFrame(master,text=\"Login\",bd=12,relief=\"ridge\")\n",
    "lb.pack()\n",
    "\n",
    "Label(lb,text=\"Username\").grid(row=1,column=1)\n",
    "Entry(lb).grid(row=1,column=2)\n",
    "\n",
    "Label(lb,text=\"Password\").grid(row=2,column=1)\n",
    "Entry(lb).grid(row=2,column=2)\n",
    "\n",
    "ttk.Button(lb,text=\"Login\").grid(row=3,column=1,columnspan=2)\n",
    "\n",
    "\n",
    "ttk.Button(lb,text=\"Forgot Password\").grid(row=4,column=1,columnspan=2)\n",
    "\n",
    "\n",
    "Label(lb,text=\"Don't have an account?\").grid(row=5,column=1)\n",
    "ttk.Button(lb,text=\"Create Account\",\n",
    "           command=createAccount\n",
    "          ).grid(row=5,column=2)\n",
    "\n",
    "\n",
    "\n",
    "\n",
    "master.mainloop()\n"
   ]
  },
  {
   "cell_type": "code",
   "execution_count": 56,
   "metadata": {},
   "outputs": [
    {
     "data": {
      "text/plain": [
       "datetime.datetime(2022, 3, 2, 10, 39, 5, 845668)"
      ]
     },
     "execution_count": 56,
     "metadata": {},
     "output_type": "execute_result"
    }
   ],
   "source": [
    "from datetime import datetime\n",
    "datetime.now()"
   ]
  },
  {
   "cell_type": "code",
   "execution_count": 58,
   "metadata": {},
   "outputs": [
    {
     "data": {
      "text/plain": [
       "-8963345624054331278"
      ]
     },
     "execution_count": 58,
     "metadata": {},
     "output_type": "execute_result"
    }
   ],
   "source": [
    "hash(\"Smith\")"
   ]
  },
  {
   "cell_type": "code",
   "execution_count": 59,
   "metadata": {},
   "outputs": [
    {
     "data": {
      "text/plain": [
       "-8963345624054331278"
      ]
     },
     "execution_count": 59,
     "metadata": {},
     "output_type": "execute_result"
    }
   ],
   "source": [
    "hash(\"Smith\")"
   ]
  },
  {
   "cell_type": "code",
   "execution_count": null,
   "metadata": {},
   "outputs": [],
   "source": [
    "from datetime import datetime\n",
    "\n",
    "from tkinter import *\n",
    "from tkinter import ttk\n",
    "from tkinter import messagebox\n",
    "\n",
    "def registerUser():\n",
    "    username=usernameVar.get()\n",
    "    password=hash(passwordVar.get())\n",
    "    confirnPass=conPasswordVar.get()\n",
    "    phone=phoneVar.get()\n",
    "    if password!=confirnPass:\n",
    "        messagebox.showerror(\"Password Error!\",\"Passwrd and confirm Password must match!!\")\n",
    "        print(\"Passwrd and confirm Password must match!!\")\n",
    "    else:\n",
    "        file = open(\"users.txt\",\"a\")\n",
    "        date=datetime.now()\n",
    "        content=f\"{username},{password},{phone},{date}\\n\"\n",
    "        file.write(content)\n",
    "        file.close()\n",
    "        messagebox.showinfo(\"Success\",\"Your account has been created!\")\n",
    "\n",
    "\n",
    "def createAccount():\n",
    "    global passwordVar,conPasswordVar,usernameVar,phoneVar\n",
    "    new_window1=Toplevel()\n",
    "    new_window1.geometry(f\"{screen_width}x{screen_height}\")\n",
    "    lb1=LabelFrame(new_window1,text=\"Create Account\",bd=12,relief=\"ridge\")\n",
    "    lb1.pack()\n",
    "\n",
    "    Label(lb1,text=\"Username\").grid(row=1,column=1)\n",
    "    usernameVar=StringVar()\n",
    "    Entry(lb1,textvariable=usernameVar).grid(row=1,column=2)\n",
    "\n",
    "    Label(lb1,text=\"Password\").grid(row=2,column=1)\n",
    "    passwordVar=StringVar()\n",
    "    Entry(lb1,textvariable=passwordVar,show=\"*\").grid(row=2,column=2)\n",
    "    \n",
    "    Label(lb1,text=\"Confirm Password\").grid(row=3,column=1)\n",
    "    conPasswordVar=StringVar()\n",
    "    Entry(lb1,textvariable=conPasswordVar,show=\"*\").grid(row=3,column=2)\n",
    "    \n",
    "    Label(lb1,text=\"Phone\").grid(row=4,column=1)\n",
    "    phoneVar=StringVar()\n",
    "    Entry(lb1,textvariable=phoneVar).grid(row=4,column=2)\n",
    "\n",
    "    ttk.Button(lb1,\n",
    "               text=\"Create Account\",\n",
    "               command=registerUser).grid(row=5,column=1,columnspan=2)\n",
    "\n",
    "    Label(lb1,text=\"Have an account?\").grid(row=6,column=1)\n",
    "    ttk.Button(lb1,text=\"Login\",\n",
    "               command=createAccount\n",
    "              ).grid(row=6,column=2)\n",
    "\n",
    "    \n",
    "    \n",
    "master = Tk()\n",
    "screen_width = master.winfo_screenwidth()\n",
    "screen_height = master.winfo_screenheight()\n",
    "master.geometry(f\"{screen_width}x{screen_height}\")\n",
    "Label(master,text=\"Point Of Sale\",\n",
    "      font=\"courier 30 bold\",\n",
    "      bd=7,relief=\"raised\").pack(ipady=6,ipadx=6)\n",
    "\n",
    "lb=LabelFrame(master,text=\"Login\",bd=12,relief=\"ridge\")\n",
    "lb.pack()\n",
    "\n",
    "Label(lb,text=\"Username\").grid(row=1,column=1)\n",
    "Entry(lb).grid(row=1,column=2)\n",
    "\n",
    "Label(lb,text=\"Password\").grid(row=2,column=1)\n",
    "Entry(lb).grid(row=2,column=2)\n",
    "\n",
    "ttk.Button(lb,text=\"Login\").grid(row=3,column=1,columnspan=2)\n",
    "\n",
    "\n",
    "ttk.Button(lb,text=\"Forgot Password\").grid(row=4,column=1,columnspan=2)\n",
    "\n",
    "\n",
    "Label(lb,text=\"Don't have an account?\").grid(row=5,column=1)\n",
    "ttk.Button(lb,text=\"Create Account\",\n",
    "           command=createAccount\n",
    "          ).grid(row=5,column=2)\n",
    "\n",
    "\n",
    "\n",
    "\n",
    "master.mainloop()\n"
   ]
  },
  {
   "cell_type": "code",
   "execution_count": 60,
   "metadata": {},
   "outputs": [
    {
     "data": {
      "text/plain": [
       "8947952964294501679"
      ]
     },
     "execution_count": 60,
     "metadata": {},
     "output_type": "execute_result"
    }
   ],
   "source": [
    "hash(\"yu\")"
   ]
  },
  {
   "cell_type": "code",
   "execution_count": 62,
   "metadata": {},
   "outputs": [
    {
     "data": {
      "text/plain": [
       "True"
      ]
     },
     "execution_count": 62,
     "metadata": {},
     "output_type": "execute_result"
    }
   ],
   "source": [
    "hash(\"yu\")==8947952964294501679"
   ]
  },
  {
   "cell_type": "code",
   "execution_count": 66,
   "metadata": {},
   "outputs": [],
   "source": [
    "from datetime import datetime\n",
    "\n",
    "from tkinter import *\n",
    "from tkinter import ttk\n",
    "from tkinter import messagebox\n",
    "\n",
    "def registerUser():\n",
    "    username=usernameVar.get()\n",
    "    password=hash(passwordVar.get())\n",
    "    confirnPass=hash(conPasswordVar.get())\n",
    "    phone=phoneVar.get()\n",
    "    if password!=confirnPass:\n",
    "        messagebox.showerror(\"Password Error!\",\"Passwrd and confirm Password must match!!\")\n",
    "        print(\"Passwrd and confirm Password must match!!\")\n",
    "    else:\n",
    "        file = open(\"users.txt\",\"a\")\n",
    "        date=datetime.now()\n",
    "        content=f\"{username},{password},{phone},{date}\\n\"\n",
    "        file.write(content)\n",
    "        file.close()\n",
    "        messagebox.showinfo(\"Success\",\"Your account has been created!\")\n",
    "\n",
    "\n",
    "def createAccount():\n",
    "    global passwordVar,conPasswordVar,usernameVar,phoneVar\n",
    "    new_window1=Toplevel()\n",
    "    new_window1.geometry(f\"{screen_width}x{screen_height}\")\n",
    "    lb1=LabelFrame(new_window1,text=\"Create Account\",bd=12,relief=\"ridge\")\n",
    "    lb1.pack()\n",
    "\n",
    "    Label(lb1,text=\"Username\").grid(row=1,column=1)\n",
    "    usernameVar=StringVar()\n",
    "    Entry(lb1,textvariable=usernameVar).grid(row=1,column=2)\n",
    "\n",
    "    Label(lb1,text=\"Password\").grid(row=2,column=1)\n",
    "    passwordVar=StringVar()\n",
    "    Entry(lb1,textvariable=passwordVar,show=\"*\").grid(row=2,column=2)\n",
    "    \n",
    "    Label(lb1,text=\"Confirm Password\").grid(row=3,column=1)\n",
    "    conPasswordVar=StringVar()\n",
    "    Entry(lb1,textvariable=conPasswordVar,show=\"*\").grid(row=3,column=2)\n",
    "    \n",
    "    Label(lb1,text=\"Phone\").grid(row=4,column=1)\n",
    "    phoneVar=StringVar()\n",
    "    Entry(lb1,textvariable=phoneVar).grid(row=4,column=2)\n",
    "\n",
    "    ttk.Button(lb1,\n",
    "               text=\"Create Account\",\n",
    "               command=registerUser).grid(row=5,column=1,columnspan=2)\n",
    "\n",
    "    Label(lb1,text=\"Have an account?\").grid(row=6,column=1)\n",
    "    ttk.Button(lb1,text=\"Login\",\n",
    "               command=createAccount\n",
    "              ).grid(row=6,column=2)\n",
    "\n",
    "    \n",
    "    \n",
    "master = Tk()\n",
    "screen_width = master.winfo_screenwidth()\n",
    "screen_height = master.winfo_screenheight()\n",
    "master.geometry(f\"{screen_width}x{screen_height}\")\n",
    "Label(master,text=\"Point Of Sale\",\n",
    "      font=\"courier 30 bold\",\n",
    "      bd=7,relief=\"raised\").pack(ipady=6,ipadx=6)\n",
    "\n",
    "lb=LabelFrame(master,text=\"Login\",bd=12,relief=\"ridge\")\n",
    "lb.pack()\n",
    "\n",
    "Label(lb,text=\"Username\").grid(row=1,column=1)\n",
    "\n",
    "Entry(lb).grid(row=1,column=2)\n",
    "\n",
    "Label(lb,text=\"Password\").grid(row=2,column=1)\n",
    "Entry(lb).grid(row=2,column=2)\n",
    "\n",
    "ttk.Button(lb,text=\"Login\").grid(row=3,column=1,columnspan=2)\n",
    "\n",
    "\n",
    "ttk.Button(lb,text=\"Forgot Password\").grid(row=4,column=1,columnspan=2)\n",
    "\n",
    "\n",
    "Label(lb,text=\"Don't have an account?\").grid(row=5,column=1)\n",
    "ttk.Button(lb,text=\"Create Account\",\n",
    "           command=createAccount\n",
    "          ).grid(row=5,column=2)\n",
    "\n",
    "\n",
    "\n",
    "\n",
    "master.mainloop()\n"
   ]
  },
  {
   "cell_type": "code",
   "execution_count": 69,
   "metadata": {},
   "outputs": [
    {
     "name": "stdout",
     "output_type": "stream",
     "text": [
      "['Smith,Smart,0816534422,2022-03-02 10:40:53.586016\\n', 'Mathew,King,0816534674,2022-03-02 10:41:57.243747\\n', ',3862183302716160612,,2022-03-02 10:54:49.878833\\n', 'Godwin,929500158325521685,,2022-03-02 10:56:50.480755\\n']\n",
      "['Smith,Smart,0816534422,2022-03-02 10:40:53.586016\\n', 'Mathew,King,0816534674,2022-03-02 10:41:57.243747\\n', ',3862183302716160612,,2022-03-02 10:54:49.878833\\n', 'Godwin,929500158325521685,,2022-03-02 10:56:50.480755\\n', 'Paul,3841710808827783368,97837873,2022-03-02 11:07:16.258387\\n']\n"
     ]
    }
   ],
   "source": [
    "from datetime import datetime\n",
    "\n",
    "from tkinter import *\n",
    "from tkinter import ttk\n",
    "from tkinter import messagebox\n",
    "\n",
    "def registerUser():\n",
    "    username=usernameVar.get()\n",
    "    password=hash(passwordVar.get())\n",
    "    confirnPass=hash(conPasswordVar.get())\n",
    "    phone=phoneVar.get()\n",
    "    if password!=confirnPass:\n",
    "        messagebox.showerror(\"Password Error!\",\"Passwrd and confirm Password must match!!\")\n",
    "        print(\"Passwrd and confirm Password must match!!\")\n",
    "    else:\n",
    "        with open(\"users.txt\",\"r\") as file1:\n",
    "            myUsers=file1.readlines()\n",
    "        print(myUsers)\n",
    "        for user in myUsers:\n",
    "            myUsername=user.split(\",\")[0]\n",
    "            if myUsername==username:\n",
    "                messagebox.showerror(\"Duplicate\",\"Username already Exists\")\n",
    "                return \n",
    "        \n",
    "        file = open(\"users.txt\",\"a\")\n",
    "        date=datetime.now()\n",
    "        content=f\"{username},{password},{phone},{date}\\n\"\n",
    "        file.write(content)\n",
    "        file.close()\n",
    "        messagebox.showinfo(\"Success\",\"Your account has been created!\")\n",
    "\n",
    "\n",
    "def createAccount():\n",
    "    global passwordVar,conPasswordVar,usernameVar,phoneVar\n",
    "    new_window1=Toplevel()\n",
    "    new_window1.geometry(f\"{screen_width}x{screen_height}\")\n",
    "    lb1=LabelFrame(new_window1,text=\"Create Account\",bd=12,relief=\"ridge\")\n",
    "    lb1.pack()\n",
    "\n",
    "    Label(lb1,text=\"Username\").grid(row=1,column=1)\n",
    "    usernameVar=StringVar()\n",
    "    Entry(lb1,textvariable=usernameVar).grid(row=1,column=2)\n",
    "\n",
    "    Label(lb1,text=\"Password\").grid(row=2,column=1)\n",
    "    passwordVar=StringVar()\n",
    "    Entry(lb1,textvariable=passwordVar,show=\"*\").grid(row=2,column=2)\n",
    "    \n",
    "    Label(lb1,text=\"Confirm Password\").grid(row=3,column=1)\n",
    "    conPasswordVar=StringVar()\n",
    "    Entry(lb1,textvariable=conPasswordVar,show=\"*\").grid(row=3,column=2)\n",
    "    \n",
    "    Label(lb1,text=\"Phone\").grid(row=4,column=1)\n",
    "    phoneVar=StringVar()\n",
    "    Entry(lb1,textvariable=phoneVar).grid(row=4,column=2)\n",
    "\n",
    "    ttk.Button(lb1,\n",
    "               text=\"Create Account\",\n",
    "               command=registerUser).grid(row=5,column=1,columnspan=2)\n",
    "\n",
    "    Label(lb1,text=\"Have an account?\").grid(row=6,column=1)\n",
    "    ttk.Button(lb1,text=\"Login\",\n",
    "               command=createAccount\n",
    "              ).grid(row=6,column=2)\n",
    "\n",
    "    \n",
    "    \n",
    "master = Tk()\n",
    "screen_width = master.winfo_screenwidth()\n",
    "screen_height = master.winfo_screenheight()\n",
    "master.geometry(f\"{screen_width}x{screen_height}\")\n",
    "Label(master,text=\"Point Of Sale\",\n",
    "      font=\"courier 30 bold\",\n",
    "      bd=7,relief=\"raised\").pack(ipady=6,ipadx=6)\n",
    "\n",
    "lb=LabelFrame(master,text=\"Login\",bd=12,relief=\"ridge\")\n",
    "lb.pack()\n",
    "\n",
    "Label(lb,text=\"Username\").grid(row=1,column=1)\n",
    "\n",
    "Entry(lb).grid(row=1,column=2)\n",
    "\n",
    "Label(lb,text=\"Password\").grid(row=2,column=1)\n",
    "Entry(lb).grid(row=2,column=2)\n",
    "\n",
    "ttk.Button(lb,text=\"Login\").grid(row=3,column=1,columnspan=2)\n",
    "\n",
    "\n",
    "ttk.Button(lb,text=\"Forgot Password\").grid(row=4,column=1,columnspan=2)\n",
    "\n",
    "\n",
    "Label(lb,text=\"Don't have an account?\").grid(row=5,column=1)\n",
    "ttk.Button(lb,text=\"Create Account\",\n",
    "           command=createAccount\n",
    "          ).grid(row=5,column=2)\n",
    "\n",
    "\n",
    "\n",
    "\n",
    "master.mainloop()\n"
   ]
  },
  {
   "cell_type": "code",
   "execution_count": null,
   "metadata": {},
   "outputs": [],
   "source": []
  }
 ],
 "metadata": {
  "kernelspec": {
   "display_name": "Python 3",
   "language": "python",
   "name": "python3"
  },
  "language_info": {
   "codemirror_mode": {
    "name": "ipython",
    "version": 3
   },
   "file_extension": ".py",
   "mimetype": "text/x-python",
   "name": "python",
   "nbconvert_exporter": "python",
   "pygments_lexer": "ipython3",
   "version": "3.7.3"
  }
 },
 "nbformat": 4,
 "nbformat_minor": 2
}
