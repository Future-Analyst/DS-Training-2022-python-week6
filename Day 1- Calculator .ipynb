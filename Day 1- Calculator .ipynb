{
 "cells": [
  {
   "cell_type": "markdown",
   "metadata": {},
   "source": [
    "# Calculator "
   ]
  },
  {
   "cell_type": "code",
   "execution_count": 53,
   "metadata": {},
   "outputs": [],
   "source": [
    "from tkinter import *\n",
    "root = Tk()\n",
    "root.config(bg=\"#121212\")\n",
    "small_btn_width=10\n",
    "Button(root,text=\"1\",\n",
    "       width=small_btn_width,bg=\"white\",\n",
    "       font=\"courier 16 normal\"\n",
    "      ).grid(row=1,column=1,pady=5,padx=5)\n",
    "Button(root,text=\"2\",\n",
    "       width=small_btn_width).grid(row=1,column=2,pady=5,padx=5)\n",
    "Button(root,text=\"3\",\n",
    "       width=small_btn_width).grid(row=1,column=3,pady=5,padx=5)\n",
    "Button(root,text=\"+\",\n",
    "       width=small_btn_width).grid(row=1,column=4,pady=5,padx=5)\n",
    "\n",
    "Button(root,text=\"4\",width=small_btn_width).grid(row=2,column=1,pady=5,padx=5)\n",
    "Button(root,text=\"5\",width=small_btn_width).grid(row=2,column=2,pady=5,padx=5)\n",
    "Button(root,text=\"6\",width=small_btn_width).grid(row=2,column=3,pady=5,padx=5)\n",
    "Button(root,text=\"-\",width=small_btn_width).grid(row=2,column=4,pady=5,padx=5)\n",
    "\n",
    "Button(root,text=\"7\",width=small_btn_width).grid(row=3,column=1,pady=5,padx=5)\n",
    "Button(root,text=\"8\",width=small_btn_width).grid(row=3,column=2,pady=5,padx=5)\n",
    "Button(root,text=\"9\",width=small_btn_width).grid(row=3,column=3,pady=5,padx=5)\n",
    "Button(root,text=\"x\",width=small_btn_width).grid(row=3,column=4,pady=5,padx=5)\n",
    "\n",
    "Button(root,text=\".\",width=small_btn_width).grid(row=4,column=1,pady=5,padx=5)\n",
    "Button(root,text=\"0\",width=small_btn_width).grid(row=4,column=2,pady=5,padx=5)\n",
    "Button(root,text=\"c\",width=small_btn_width).grid(row=4,column=3,pady=5,padx=5)\n",
    "Button(root,text=chr(247),width=small_btn_width).grid(row=4,column=4,pady=5,padx=5)\n",
    "\n",
    "Button(root,text=\"clear\",width=2*small_btn_width+3).grid(row=5,column=1,columnspan=2,padx=5)\n",
    "Button(root,text=\"=\",width=2*small_btn_width+3).grid(row=5,column=3,columnspan=2,padx=5)\n",
    "\n",
    "\n",
    "\n",
    "\n",
    "root.mainloop()"
   ]
  },
  {
   "cell_type": "code",
   "execution_count": 23,
   "metadata": {},
   "outputs": [
    {
     "data": {
      "text/plain": [
       "'⎚'"
      ]
     },
     "execution_count": 23,
     "metadata": {},
     "output_type": "execute_result"
    }
   ],
   "source": [
    "chr(0x239A)"
   ]
  },
  {
   "cell_type": "code",
   "execution_count": 19,
   "metadata": {},
   "outputs": [
    {
     "data": {
      "text/plain": [
       "247"
      ]
     },
     "execution_count": 19,
     "metadata": {},
     "output_type": "execute_result"
    }
   ],
   "source": [
    "ord(\"÷\")"
   ]
  },
  {
   "cell_type": "code",
   "execution_count": 84,
   "metadata": {},
   "outputs": [],
   "source": [
    "from tkinter import *\n",
    "def show1():\n",
    "    entry.insert(END,\"1\")\n",
    "def show2():\n",
    "    entry.insert(END,\"2\")\n",
    "    \n",
    "    \n",
    "root = Tk()\n",
    "root.config(bg=\"#121212\")\n",
    "small_btn_width=10\n",
    "small_btns_styles={\"bg\":\"white\",\n",
    "                   \"font\":\"courier 16 normal\",\n",
    "                   \"width\":5,\n",
    "                   \"bd\":6\n",
    "                  }\n",
    "entry=Entry(root,width=25,font=\"courier 18 bold\")\n",
    "entry.grid(row=0,column=1,pady=5,ipady=6,columnspan=4)\n",
    "Button(root,text=\"1\",**small_btns_styles,command=show1).grid(row=1,column=1,pady=5,padx=5)\n",
    "Button(root,text=\"2\",**small_btns_styles,command=show2).grid(row=1,column=2,pady=5,padx=5)\n",
    "Button(root,text=\"3\",**small_btns_styles).grid(row=1,column=3,pady=5,padx=5)\n",
    "Button(root,text=\"+\",**small_btns_styles).grid(row=1,column=4,pady=5,padx=5)\n",
    "\n",
    "Button(root,text=\"4\",**small_btns_styles).grid(row=2,column=1,pady=5,padx=5)\n",
    "Button(root,text=\"5\",**small_btns_styles).grid(row=2,column=2,pady=5,padx=5)\n",
    "Button(root,text=\"6\",**small_btns_styles).grid(row=2,column=3,pady=5,padx=5)\n",
    "Button(root,text=\"-\",**small_btns_styles).grid(row=2,column=4,pady=5,padx=5)\n",
    "\n",
    "Button(root,text=\"7\",width=small_btn_width).grid(row=3,column=1,pady=5,padx=5)\n",
    "Button(root,text=\"8\",width=small_btn_width).grid(row=3,column=2,pady=5,padx=5)\n",
    "Button(root,text=\"9\",width=small_btn_width).grid(row=3,column=3,pady=5,padx=5)\n",
    "Button(root,text=\"x\",width=small_btn_width).grid(row=3,column=4,pady=5,padx=5)\n",
    "\n",
    "Button(root,text=\".\",width=small_btn_width).grid(row=4,column=1,pady=5,padx=5)\n",
    "Button(root,text=\"0\",width=small_btn_width).grid(row=4,column=2,pady=5,padx=5)\n",
    "Button(root,text=\"c\",width=small_btn_width).grid(row=4,column=3,pady=5,padx=5)\n",
    "Button(root,text=chr(247),width=small_btn_width).grid(row=4,column=4,pady=5,padx=5)\n",
    "\n",
    "Button(root,text=\"clear\",width=2*small_btn_width+3).grid(row=5,column=1,columnspan=2,padx=5)\n",
    "Button(root,text=\"=\",width=2*small_btn_width+3).grid(row=5,column=3,columnspan=2,padx=5)\n",
    "\n",
    "\n",
    "\n",
    "\n",
    "root.mainloop()"
   ]
  },
  {
   "cell_type": "code",
   "execution_count": 59,
   "metadata": {},
   "outputs": [],
   "source": [
    "def f(a=1,b=6):\n",
    "    return a+b"
   ]
  },
  {
   "cell_type": "code",
   "execution_count": 60,
   "metadata": {},
   "outputs": [
    {
     "data": {
      "text/plain": [
       "6"
      ]
     },
     "execution_count": 60,
     "metadata": {},
     "output_type": "execute_result"
    }
   ],
   "source": [
    "f(2,4)"
   ]
  },
  {
   "cell_type": "code",
   "execution_count": 61,
   "metadata": {},
   "outputs": [
    {
     "data": {
      "text/plain": [
       "7"
      ]
     },
     "execution_count": 61,
     "metadata": {},
     "output_type": "execute_result"
    }
   ],
   "source": [
    "f()"
   ]
  },
  {
   "cell_type": "code",
   "execution_count": 62,
   "metadata": {},
   "outputs": [
    {
     "data": {
      "text/plain": [
       "30"
      ]
     },
     "execution_count": 62,
     "metadata": {},
     "output_type": "execute_result"
    }
   ],
   "source": [
    "f(b=10,a=20)"
   ]
  },
  {
   "cell_type": "code",
   "execution_count": 64,
   "metadata": {},
   "outputs": [],
   "source": [
    "tt={\"a\":10,\"b\":100}"
   ]
  },
  {
   "cell_type": "code",
   "execution_count": 66,
   "metadata": {},
   "outputs": [
    {
     "data": {
      "text/plain": [
       "110"
      ]
     },
     "execution_count": 66,
     "metadata": {},
     "output_type": "execute_result"
    }
   ],
   "source": [
    "f(**tt)"
   ]
  },
  {
   "cell_type": "code",
   "execution_count": 86,
   "metadata": {},
   "outputs": [],
   "source": [
    "from tkinter import *\n",
    "def showText(val):\n",
    "    entry.insert(END,val)\n",
    "\n",
    "    \n",
    "    \n",
    "root = Tk()\n",
    "root.config(bg=\"#121212\")\n",
    "small_btn_width=10\n",
    "small_btns_styles={\"bg\":\"white\",\n",
    "                   \"font\":\"courier 16 normal\",\n",
    "                   \"width\":5,\n",
    "                   \"bd\":6\n",
    "                  }\n",
    "entry=Entry(root,width=25,font=\"courier 18 bold\")\n",
    "entry.grid(row=0,column=1,pady=5,ipady=6,columnspan=4)\n",
    "Button(root,text=\"1\",**small_btns_styles,command=showText(\"1\")).grid(row=1,column=1,pady=5,padx=5)\n",
    "Button(root,text=\"2\",**small_btns_styles,command=showText('2')).grid(row=1,column=2,pady=5,padx=5)\n",
    "Button(root,text=\"3\",**small_btns_styles,command=showText(\"3\")).grid(row=1,column=3,pady=5,padx=5)\n",
    "Button(root,text=\"+\",**small_btns_styles,command=showText(\"+\")).grid(row=1,column=4,pady=5,padx=5)\n",
    "\n",
    "Button(root,text=\"4\",**small_btns_styles).grid(row=2,column=1,pady=5,padx=5)\n",
    "Button(root,text=\"5\",**small_btns_styles).grid(row=2,column=2,pady=5,padx=5)\n",
    "Button(root,text=\"6\",**small_btns_styles).grid(row=2,column=3,pady=5,padx=5)\n",
    "Button(root,text=\"-\",**small_btns_styles).grid(row=2,column=4,pady=5,padx=5)\n",
    "\n",
    "Button(root,text=\"7\",width=small_btn_width).grid(row=3,column=1,pady=5,padx=5)\n",
    "Button(root,text=\"8\",width=small_btn_width).grid(row=3,column=2,pady=5,padx=5)\n",
    "Button(root,text=\"9\",width=small_btn_width).grid(row=3,column=3,pady=5,padx=5)\n",
    "Button(root,text=\"x\",width=small_btn_width).grid(row=3,column=4,pady=5,padx=5)\n",
    "\n",
    "Button(root,text=\".\",width=small_btn_width).grid(row=4,column=1,pady=5,padx=5)\n",
    "Button(root,text=\"0\",width=small_btn_width).grid(row=4,column=2,pady=5,padx=5)\n",
    "Button(root,text=\"c\",width=small_btn_width).grid(row=4,column=3,pady=5,padx=5)\n",
    "Button(root,text=chr(247),width=small_btn_width).grid(row=4,column=4,pady=5,padx=5)\n",
    "\n",
    "Button(root,text=\"clear\",width=2*small_btn_width+3).grid(row=5,column=1,columnspan=2,padx=5)\n",
    "Button(root,text=\"=\",width=2*small_btn_width+3).grid(row=5,column=3,columnspan=2,padx=5)\n",
    "\n",
    "\n",
    "\n",
    "\n",
    "root.mainloop()"
   ]
  },
  {
   "cell_type": "code",
   "execution_count": 94,
   "metadata": {},
   "outputs": [],
   "source": [
    "from tkinter import *\n",
    "def showText(val):\n",
    "    entry.insert(END,val)\n",
    "def removeLast():\n",
    "    print(entry.get())\n",
    "    new_val=entry.get()[:-1]\n",
    "    print(new_val)\n",
    "    entry.delete(\"0\",\"end\")\n",
    "    entry.insert(\"end\",new_val)\n",
    "\n",
    "    \n",
    "\n",
    "    \n",
    "    \n",
    "root = Tk()\n",
    "root.config(bg=\"#121212\")\n",
    "small_btn_width=10\n",
    "small_btns_styles={\"bg\":\"white\",\n",
    "                   \"font\":\"courier 16 normal\",\n",
    "                   \"width\":5,\n",
    "                   \"bd\":6\n",
    "                  }\n",
    "entry=Entry(root,width=25,font=\"courier 18 bold\")\n",
    "\n",
    "entry.grid(row=0,column=1,pady=5,ipady=6,columnspan=4)\n",
    "Button(root,text=\"1\",**small_btns_styles,command=lambda:showText(\"1\")).grid(row=1,column=1,pady=5,padx=5)\n",
    "Button(root,text=\"2\",**small_btns_styles,command=lambda:showText('2')).grid(row=1,column=2,pady=5,padx=5)\n",
    "Button(root,text=\"3\",**small_btns_styles,command=showText(\"3\")).grid(row=1,column=3,pady=5,padx=5)\n",
    "Button(root,text=\"+\",**small_btns_styles,command=showText(\"+\")).grid(row=1,column=4,pady=5,padx=5)\n",
    "\n",
    "Button(root,text=\"4\",**small_btns_styles).grid(row=2,column=1,pady=5,padx=5)\n",
    "Button(root,text=\"5\",**small_btns_styles).grid(row=2,column=2,pady=5,padx=5)\n",
    "Button(root,text=\"6\",**small_btns_styles).grid(row=2,column=3,pady=5,padx=5)\n",
    "Button(root,text=\"-\",**small_btns_styles).grid(row=2,column=4,pady=5,padx=5)\n",
    "\n",
    "Button(root,text=\"7\",width=small_btn_width).grid(row=3,column=1,pady=5,padx=5)\n",
    "Button(root,text=\"8\",width=small_btn_width).grid(row=3,column=2,pady=5,padx=5)\n",
    "Button(root,text=\"9\",width=small_btn_width).grid(row=3,column=3,pady=5,padx=5)\n",
    "Button(root,text=\"x\",width=small_btn_width).grid(row=3,column=4,pady=5,padx=5)\n",
    "\n",
    "Button(root,text=\".\",width=small_btn_width).grid(row=4,column=1,pady=5,padx=5)\n",
    "Button(root,text=\"0\",width=small_btn_width).grid(row=4,column=2,pady=5,padx=5)\n",
    "Button(root,text=\"c\",width=small_btn_width,command=removeLast).grid(row=4,column=3,pady=5,padx=5)\n",
    "Button(root,text=chr(247),width=small_btn_width).grid(row=4,column=4,pady=5,padx=5)\n",
    "\n",
    "Button(root,text=\"clear\",width=2*small_btn_width+3).grid(row=5,column=1,columnspan=2,padx=5)\n",
    "Button(root,text=\"=\",width=2*small_btn_width+3).grid(row=5,column=3,columnspan=2,padx=5)\n",
    "\n",
    "\n",
    "\n",
    "\n",
    "root.mainloop()"
   ]
  },
  {
   "cell_type": "code",
   "execution_count": 114,
   "metadata": {},
   "outputs": [],
   "source": [
    "from tkinter import *\n",
    "def showText(val):\n",
    "    entry.insert(END,val)\n",
    "def removeLast():\n",
    "    print(entry.get())\n",
    "    new_val=entry.get()[:-1]\n",
    "    print(new_val)\n",
    "    entry.delete(\"0\",\"end\")\n",
    "    entry.insert(\"end\",new_val)\n",
    "def compute():\n",
    "    val = eval(entry.get())\n",
    "    print(val)\n",
    "    entry.delete(\"0\",\"end\")\n",
    "    entry.insert(\"end\",str(val))\n",
    "\n",
    "    \n",
    "\n",
    "    \n",
    "    \n",
    "root = Tk()\n",
    "root.config(bg=\"#121212\")\n",
    "small_btn_width=10\n",
    "small_btns_styles={\"bg\":\"white\",\n",
    "                   \"font\":\"courier 16 normal\",\n",
    "                   \"width\":5,\n",
    "                   \"bd\":6\n",
    "                  }\n",
    "entry=Entry(root,width=25,font=\"courier 18 bold\")\n",
    "\n",
    "entry.grid(row=0,column=1,pady=5,ipady=6,columnspan=4)\n",
    "Button(root,text=\"1\",**small_btns_styles,command=lambda:showText(\"1\")).grid(row=1,column=1,pady=5,padx=5)\n",
    "Button(root,text=\"2\",**small_btns_styles,command=lambda:showText('2')).grid(row=1,column=2,pady=5,padx=5)\n",
    "Button(root,text=\"3\",**small_btns_styles,command=showText(\"3\")).grid(row=1,column=3,pady=5,padx=5)\n",
    "Button(root,text=\"+\",**small_btns_styles,command=showText(\"+\")).grid(row=1,column=4,pady=5,padx=5)\n",
    "\n",
    "Button(root,text=\"4\",**small_btns_styles).grid(row=2,column=1,pady=5,padx=5)\n",
    "Button(root,text=\"5\",**small_btns_styles).grid(row=2,column=2,pady=5,padx=5)\n",
    "Button(root,text=\"6\",**small_btns_styles).grid(row=2,column=3,pady=5,padx=5)\n",
    "Button(root,text=\"-\",**small_btns_styles).grid(row=2,column=4,pady=5,padx=5)\n",
    "\n",
    "Button(root,text=\"7\",width=small_btn_width).grid(row=3,column=1,pady=5,padx=5)\n",
    "Button(root,text=\"8\",width=small_btn_width).grid(row=3,column=2,pady=5,padx=5)\n",
    "Button(root,text=\"9\",width=small_btn_width).grid(row=3,column=3,pady=5,padx=5)\n",
    "Button(root,text=\"x\",width=small_btn_width,command=lambda:showText(\"*\")).grid(row=3,column=4,pady=5,padx=5)\n",
    "\n",
    "Button(root,text=\".\",width=small_btn_width).grid(row=4,column=1,pady=5,padx=5)\n",
    "Button(root,text=\"0\",width=small_btn_width).grid(row=4,column=2,pady=5,padx=5)\n",
    "Button(root,text=\"c\",width=small_btn_width,command=removeLast).grid(row=4,column=3,pady=5,padx=5)\n",
    "Button(root,text=chr(247),width=small_btn_width).grid(row=4,column=4,pady=5,padx=5)\n",
    "\n",
    "Button(root,text=\"clear\",width=2*small_btn_width+3).grid(row=5,column=1,columnspan=2,padx=5)\n",
    "Button(root,text=\"=\",width=2*small_btn_width+3,command=compute).grid(row=5,column=3,columnspan=2,padx=5)\n",
    "\n",
    "\n",
    "\n",
    "\n",
    "root.mainloop()"
   ]
  },
  {
   "cell_type": "code",
   "execution_count": 95,
   "metadata": {},
   "outputs": [
    {
     "data": {
      "text/plain": [
       "15480"
      ]
     },
     "execution_count": 95,
     "metadata": {},
     "output_type": "execute_result"
    }
   ],
   "source": [
    "eval(\"673*23+6-5\")"
   ]
  },
  {
   "cell_type": "code",
   "execution_count": 113,
   "metadata": {},
   "outputs": [],
   "source": [
    "from tkinter import *\n",
    "from tkinter import ttk\n",
    "def showText(val):\n",
    "    entry.insert(END,val)\n",
    "def removeLast():\n",
    "    print(entry.get())\n",
    "    new_val=entry.get()[:-1]\n",
    "    print(new_val)\n",
    "    entry.delete(\"0\",\"end\")\n",
    "    entry.insert(\"end\",new_val)\n",
    "def compute():\n",
    "    val = eval(entry.get())\n",
    "    print(val)\n",
    "    entry.delete(\"0\",\"end\")\n",
    "    entry.insert(\"end\",str(val))\n",
    "\n",
    "    \n",
    "\n",
    "    \n",
    "    \n",
    "root = Tk()\n",
    "root.config(bg=\"#121212\")\n",
    "small_btn_width=10\n",
    "small_btns_styles={\"bg\":\"white\",\n",
    "                   \"font\":\"courier 16 normal\",\n",
    "                   \"width\":5,\n",
    "                   \"bd\":6\n",
    "                  }\n",
    "entry=ttk.Entry(root,width=20,font=\"courier 18 bold\")\n",
    "\n",
    "entry.grid(row=0,column=1,pady=5,ipady=6,columnspan=4)\n",
    "ttk.Button(root,text=\"1\",command=lambda:showText(\"1\")).grid(row=1,column=1,pady=5,padx=5)\n",
    "ttk.Button(root,text=\"2\",command=lambda:showText('2')).grid(row=1,column=2,pady=5,padx=5)\n",
    "ttk.Button(root,text=\"3\",command=showText(\"3\")).grid(row=1,column=3,pady=5,padx=5)\n",
    "ttk.Button(root,text=\"+\",command=showText(\"+\")).grid(row=1,column=4,pady=5,padx=5)\n",
    "\n",
    "ttk.Button(root,text=\"4\",).grid(row=2,column=1,pady=5,padx=5)\n",
    "ttk.Button(root,text=\"5\",).grid(row=2,column=2,pady=5,padx=5)\n",
    "ttk.Button(root,text=\"6\",).grid(row=2,column=3,pady=5,padx=5)\n",
    "ttk.Button(root,text=\"-\",).grid(row=2,column=4,pady=5,padx=5)\n",
    "\n",
    "ttk.Button(root,text=\"7\",).grid(row=3,column=1,pady=5,padx=5)\n",
    "ttk.Button(root,text=\"8\",).grid(row=3,column=2,pady=5,padx=5)\n",
    "ttk.Button(root,text=\"9\",).grid(row=3,column=3,pady=5,padx=5)\n",
    "ttk.Button(root,text=\"x\",command=lambda:showText(\"*\")).grid(row=3,column=4,pady=5,padx=5)\n",
    "\n",
    "ttk.Button(root,text=\".\",).grid(row=4,column=1,pady=5,padx=5)\n",
    "ttk.Button(root,text=\"0\",).grid(row=4,column=2,pady=5,padx=5)\n",
    "ttk.Button(root,text=\"c\",command=removeLast).grid(row=4,column=3,pady=5,padx=5)\n",
    "ttk.Button(root,text=chr(247)).grid(row=4,column=4,pady=5,padx=5)\n",
    "\n",
    "ttk.Button(root,text=\"clear\",width=2*small_btn_width+3).grid(row=5,column=1,columnspan=2,padx=5)\n",
    "ttk.Button(root,text=\"=\",width=2*small_btn_width+3,command=compute).grid(row=5,column=3,columnspan=2,padx=5)\n",
    "\n",
    "\n",
    "\n",
    "\n",
    "root.mainloop()"
   ]
  },
  {
   "cell_type": "code",
   "execution_count": null,
   "metadata": {},
   "outputs": [],
   "source": []
  }
 ],
 "metadata": {
  "kernelspec": {
   "display_name": "Python 3",
   "language": "python",
   "name": "python3"
  },
  "language_info": {
   "codemirror_mode": {
    "name": "ipython",
    "version": 3
   },
   "file_extension": ".py",
   "mimetype": "text/x-python",
   "name": "python",
   "nbconvert_exporter": "python",
   "pygments_lexer": "ipython3",
   "version": "3.7.3"
  }
 },
 "nbformat": 4,
 "nbformat_minor": 2
}
